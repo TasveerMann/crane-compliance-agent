{
 "cells": [
  {
   "cell_type": "markdown",
   "id": "4f8744ec",
   "metadata": {},
   "source": [
    "# **SETUP**"
   ]
  },
  {
   "cell_type": "code",
   "execution_count": 1,
   "id": "ff1ec261",
   "metadata": {},
   "outputs": [
    {
     "name": "stdout",
     "output_type": "stream",
     "text": [
      "Requirement already satisfied: import-ipynb in /Users/tasmac/miniconda3/envs/data-cleaning-agent/lib/python3.11/site-packages (0.2)\n",
      "Requirement already satisfied: IPython in /Users/tasmac/miniconda3/envs/data-cleaning-agent/lib/python3.11/site-packages (from import-ipynb) (9.1.0)\n",
      "Requirement already satisfied: nbformat in /Users/tasmac/miniconda3/envs/data-cleaning-agent/lib/python3.11/site-packages (from import-ipynb) (5.10.4)\n",
      "Requirement already satisfied: decorator in /Users/tasmac/miniconda3/envs/data-cleaning-agent/lib/python3.11/site-packages (from IPython->import-ipynb) (5.2.1)\n",
      "Requirement already satisfied: ipython-pygments-lexers in /Users/tasmac/miniconda3/envs/data-cleaning-agent/lib/python3.11/site-packages (from IPython->import-ipynb) (1.1.1)\n",
      "Requirement already satisfied: jedi>=0.16 in /Users/tasmac/miniconda3/envs/data-cleaning-agent/lib/python3.11/site-packages (from IPython->import-ipynb) (0.19.2)\n",
      "Requirement already satisfied: matplotlib-inline in /Users/tasmac/miniconda3/envs/data-cleaning-agent/lib/python3.11/site-packages (from IPython->import-ipynb) (0.1.6)\n",
      "Requirement already satisfied: pexpect>4.3 in /Users/tasmac/miniconda3/envs/data-cleaning-agent/lib/python3.11/site-packages (from IPython->import-ipynb) (4.9.0)\n",
      "Requirement already satisfied: prompt_toolkit<3.1.0,>=3.0.41 in /Users/tasmac/miniconda3/envs/data-cleaning-agent/lib/python3.11/site-packages (from IPython->import-ipynb) (3.0.43)\n",
      "Requirement already satisfied: pygments>=2.4.0 in /Users/tasmac/miniconda3/envs/data-cleaning-agent/lib/python3.11/site-packages (from IPython->import-ipynb) (2.19.1)\n",
      "Requirement already satisfied: stack_data in /Users/tasmac/miniconda3/envs/data-cleaning-agent/lib/python3.11/site-packages (from IPython->import-ipynb) (0.6.3)\n",
      "Requirement already satisfied: traitlets>=5.13.0 in /Users/tasmac/miniconda3/envs/data-cleaning-agent/lib/python3.11/site-packages (from IPython->import-ipynb) (5.14.3)\n",
      "Requirement already satisfied: typing_extensions>=4.6 in /Users/tasmac/miniconda3/envs/data-cleaning-agent/lib/python3.11/site-packages (from IPython->import-ipynb) (4.15.0)\n",
      "Requirement already satisfied: wcwidth in /Users/tasmac/miniconda3/envs/data-cleaning-agent/lib/python3.11/site-packages (from prompt_toolkit<3.1.0,>=3.0.41->IPython->import-ipynb) (0.2.13)\n",
      "Requirement already satisfied: parso<0.9.0,>=0.8.4 in /Users/tasmac/miniconda3/envs/data-cleaning-agent/lib/python3.11/site-packages (from jedi>=0.16->IPython->import-ipynb) (0.8.4)\n",
      "Requirement already satisfied: ptyprocess>=0.5 in /Users/tasmac/miniconda3/envs/data-cleaning-agent/lib/python3.11/site-packages (from pexpect>4.3->IPython->import-ipynb) (0.7.0)\n",
      "Requirement already satisfied: fastjsonschema>=2.15 in /Users/tasmac/miniconda3/envs/data-cleaning-agent/lib/python3.11/site-packages (from nbformat->import-ipynb) (2.20.0)\n",
      "Requirement already satisfied: jsonschema>=2.6 in /Users/tasmac/miniconda3/envs/data-cleaning-agent/lib/python3.11/site-packages (from nbformat->import-ipynb) (4.25.0)\n",
      "Requirement already satisfied: jupyter-core!=5.0.*,>=4.12 in /Users/tasmac/miniconda3/envs/data-cleaning-agent/lib/python3.11/site-packages (from nbformat->import-ipynb) (5.8.1)\n",
      "Requirement already satisfied: attrs>=22.2.0 in /Users/tasmac/miniconda3/envs/data-cleaning-agent/lib/python3.11/site-packages (from jsonschema>=2.6->nbformat->import-ipynb) (24.3.0)\n",
      "Requirement already satisfied: jsonschema-specifications>=2023.03.6 in /Users/tasmac/miniconda3/envs/data-cleaning-agent/lib/python3.11/site-packages (from jsonschema>=2.6->nbformat->import-ipynb) (2023.7.1)\n",
      "Requirement already satisfied: referencing>=0.28.4 in /Users/tasmac/miniconda3/envs/data-cleaning-agent/lib/python3.11/site-packages (from jsonschema>=2.6->nbformat->import-ipynb) (0.30.2)\n",
      "Requirement already satisfied: rpds-py>=0.7.1 in /Users/tasmac/miniconda3/envs/data-cleaning-agent/lib/python3.11/site-packages (from jsonschema>=2.6->nbformat->import-ipynb) (0.22.3)\n",
      "Requirement already satisfied: platformdirs>=2.5 in /Users/tasmac/miniconda3/envs/data-cleaning-agent/lib/python3.11/site-packages (from jupyter-core!=5.0.*,>=4.12->nbformat->import-ipynb) (4.3.7)\n",
      "Requirement already satisfied: executing>=1.2.0 in /Users/tasmac/miniconda3/envs/data-cleaning-agent/lib/python3.11/site-packages (from stack_data->IPython->import-ipynb) (2.2.1)\n",
      "Requirement already satisfied: asttokens>=2.1.0 in /Users/tasmac/miniconda3/envs/data-cleaning-agent/lib/python3.11/site-packages (from stack_data->IPython->import-ipynb) (3.0.0)\n",
      "Requirement already satisfied: pure_eval in /Users/tasmac/miniconda3/envs/data-cleaning-agent/lib/python3.11/site-packages (from stack_data->IPython->import-ipynb) (0.2.3)\n",
      "Note: you may need to restart the kernel to use updated packages.\n",
      "Requirement already satisfied: pandas in /Users/tasmac/miniconda3/envs/data-cleaning-agent/lib/python3.11/site-packages (2.3.2)\n",
      "Requirement already satisfied: numpy in /Users/tasmac/miniconda3/envs/data-cleaning-agent/lib/python3.11/site-packages (2.3.3)\n",
      "Requirement already satisfied: python-dateutil>=2.8.2 in /Users/tasmac/miniconda3/envs/data-cleaning-agent/lib/python3.11/site-packages (from pandas) (2.9.0.post0)\n",
      "Requirement already satisfied: pytz>=2020.1 in /Users/tasmac/miniconda3/envs/data-cleaning-agent/lib/python3.11/site-packages (from pandas) (2025.2)\n",
      "Requirement already satisfied: tzdata>=2022.7 in /Users/tasmac/miniconda3/envs/data-cleaning-agent/lib/python3.11/site-packages (from pandas) (2025.2)\n",
      "Requirement already satisfied: six>=1.5 in /Users/tasmac/miniconda3/envs/data-cleaning-agent/lib/python3.11/site-packages (from python-dateutil>=2.8.2->pandas) (1.17.0)\n",
      "Note: you may need to restart the kernel to use updated packages.\n",
      "Requirement already satisfied: langchain in /Users/tasmac/miniconda3/envs/data-cleaning-agent/lib/python3.11/site-packages (0.3.27)\n",
      "Requirement already satisfied: langchain-openai in /Users/tasmac/miniconda3/envs/data-cleaning-agent/lib/python3.11/site-packages (0.3.33)\n",
      "Requirement already satisfied: langchain-core<1.0.0,>=0.3.72 in /Users/tasmac/miniconda3/envs/data-cleaning-agent/lib/python3.11/site-packages (from langchain) (0.3.76)\n",
      "Requirement already satisfied: langchain-text-splitters<1.0.0,>=0.3.9 in /Users/tasmac/miniconda3/envs/data-cleaning-agent/lib/python3.11/site-packages (from langchain) (0.3.11)\n",
      "Requirement already satisfied: langsmith>=0.1.17 in /Users/tasmac/miniconda3/envs/data-cleaning-agent/lib/python3.11/site-packages (from langchain) (0.4.27)\n",
      "Requirement already satisfied: pydantic<3.0.0,>=2.7.4 in /Users/tasmac/miniconda3/envs/data-cleaning-agent/lib/python3.11/site-packages (from langchain) (2.11.9)\n",
      "Requirement already satisfied: SQLAlchemy<3,>=1.4 in /Users/tasmac/miniconda3/envs/data-cleaning-agent/lib/python3.11/site-packages (from langchain) (2.0.43)\n",
      "Requirement already satisfied: requests<3,>=2 in /Users/tasmac/miniconda3/envs/data-cleaning-agent/lib/python3.11/site-packages (from langchain) (2.32.5)\n",
      "Requirement already satisfied: PyYAML>=5.3 in /Users/tasmac/miniconda3/envs/data-cleaning-agent/lib/python3.11/site-packages (from langchain) (6.0.2)\n",
      "Requirement already satisfied: tenacity!=8.4.0,<10.0.0,>=8.1.0 in /Users/tasmac/miniconda3/envs/data-cleaning-agent/lib/python3.11/site-packages (from langchain-core<1.0.0,>=0.3.72->langchain) (9.1.2)\n",
      "Requirement already satisfied: jsonpatch<2.0,>=1.33 in /Users/tasmac/miniconda3/envs/data-cleaning-agent/lib/python3.11/site-packages (from langchain-core<1.0.0,>=0.3.72->langchain) (1.33)\n",
      "Requirement already satisfied: typing-extensions>=4.7 in /Users/tasmac/miniconda3/envs/data-cleaning-agent/lib/python3.11/site-packages (from langchain-core<1.0.0,>=0.3.72->langchain) (4.15.0)\n",
      "Requirement already satisfied: packaging>=23.2 in /Users/tasmac/miniconda3/envs/data-cleaning-agent/lib/python3.11/site-packages (from langchain-core<1.0.0,>=0.3.72->langchain) (25.0)\n",
      "Requirement already satisfied: jsonpointer>=1.9 in /Users/tasmac/miniconda3/envs/data-cleaning-agent/lib/python3.11/site-packages (from jsonpatch<2.0,>=1.33->langchain-core<1.0.0,>=0.3.72->langchain) (3.0.0)\n",
      "Requirement already satisfied: annotated-types>=0.6.0 in /Users/tasmac/miniconda3/envs/data-cleaning-agent/lib/python3.11/site-packages (from pydantic<3.0.0,>=2.7.4->langchain) (0.7.0)\n",
      "Requirement already satisfied: pydantic-core==2.33.2 in /Users/tasmac/miniconda3/envs/data-cleaning-agent/lib/python3.11/site-packages (from pydantic<3.0.0,>=2.7.4->langchain) (2.33.2)\n",
      "Requirement already satisfied: typing-inspection>=0.4.0 in /Users/tasmac/miniconda3/envs/data-cleaning-agent/lib/python3.11/site-packages (from pydantic<3.0.0,>=2.7.4->langchain) (0.4.1)\n",
      "Requirement already satisfied: charset_normalizer<4,>=2 in /Users/tasmac/miniconda3/envs/data-cleaning-agent/lib/python3.11/site-packages (from requests<3,>=2->langchain) (3.3.2)\n",
      "Requirement already satisfied: idna<4,>=2.5 in /Users/tasmac/miniconda3/envs/data-cleaning-agent/lib/python3.11/site-packages (from requests<3,>=2->langchain) (3.7)\n",
      "Requirement already satisfied: urllib3<3,>=1.21.1 in /Users/tasmac/miniconda3/envs/data-cleaning-agent/lib/python3.11/site-packages (from requests<3,>=2->langchain) (2.5.0)\n",
      "Requirement already satisfied: certifi>=2017.4.17 in /Users/tasmac/miniconda3/envs/data-cleaning-agent/lib/python3.11/site-packages (from requests<3,>=2->langchain) (2025.8.3)\n",
      "Requirement already satisfied: openai<2.0.0,>=1.104.2 in /Users/tasmac/miniconda3/envs/data-cleaning-agent/lib/python3.11/site-packages (from langchain-openai) (1.107.2)\n",
      "Requirement already satisfied: tiktoken<1,>=0.7 in /Users/tasmac/miniconda3/envs/data-cleaning-agent/lib/python3.11/site-packages (from langchain-openai) (0.11.0)\n",
      "Requirement already satisfied: anyio<5,>=3.5.0 in /Users/tasmac/miniconda3/envs/data-cleaning-agent/lib/python3.11/site-packages (from openai<2.0.0,>=1.104.2->langchain-openai) (4.7.0)\n",
      "Requirement already satisfied: distro<2,>=1.7.0 in /Users/tasmac/miniconda3/envs/data-cleaning-agent/lib/python3.11/site-packages (from openai<2.0.0,>=1.104.2->langchain-openai) (1.9.0)\n",
      "Requirement already satisfied: httpx<1,>=0.23.0 in /Users/tasmac/miniconda3/envs/data-cleaning-agent/lib/python3.11/site-packages (from openai<2.0.0,>=1.104.2->langchain-openai) (0.28.1)\n",
      "Requirement already satisfied: jiter<1,>=0.4.0 in /Users/tasmac/miniconda3/envs/data-cleaning-agent/lib/python3.11/site-packages (from openai<2.0.0,>=1.104.2->langchain-openai) (0.10.0)\n",
      "Requirement already satisfied: sniffio in /Users/tasmac/miniconda3/envs/data-cleaning-agent/lib/python3.11/site-packages (from openai<2.0.0,>=1.104.2->langchain-openai) (1.3.0)\n",
      "Requirement already satisfied: tqdm>4 in /Users/tasmac/miniconda3/envs/data-cleaning-agent/lib/python3.11/site-packages (from openai<2.0.0,>=1.104.2->langchain-openai) (4.67.1)\n",
      "Requirement already satisfied: httpcore==1.* in /Users/tasmac/miniconda3/envs/data-cleaning-agent/lib/python3.11/site-packages (from httpx<1,>=0.23.0->openai<2.0.0,>=1.104.2->langchain-openai) (1.0.9)\n",
      "Requirement already satisfied: h11>=0.16 in /Users/tasmac/miniconda3/envs/data-cleaning-agent/lib/python3.11/site-packages (from httpcore==1.*->httpx<1,>=0.23.0->openai<2.0.0,>=1.104.2->langchain-openai) (0.16.0)\n",
      "Requirement already satisfied: regex>=2022.1.18 in /Users/tasmac/miniconda3/envs/data-cleaning-agent/lib/python3.11/site-packages (from tiktoken<1,>=0.7->langchain-openai) (2025.9.1)\n",
      "Requirement already satisfied: orjson>=3.9.14 in /Users/tasmac/miniconda3/envs/data-cleaning-agent/lib/python3.11/site-packages (from langsmith>=0.1.17->langchain) (3.11.3)\n",
      "Requirement already satisfied: requests-toolbelt>=1.0.0 in /Users/tasmac/miniconda3/envs/data-cleaning-agent/lib/python3.11/site-packages (from langsmith>=0.1.17->langchain) (1.0.0)\n",
      "Requirement already satisfied: zstandard>=0.23.0 in /Users/tasmac/miniconda3/envs/data-cleaning-agent/lib/python3.11/site-packages (from langsmith>=0.1.17->langchain) (0.24.0)\n",
      "Note: you may need to restart the kernel to use updated packages.\n",
      "Requirement already satisfied: python-dotenv in /Users/tasmac/miniconda3/envs/data-cleaning-agent/lib/python3.11/site-packages (1.1.1)\n",
      "Note: you may need to restart the kernel to use updated packages.\n"
     ]
    }
   ],
   "source": [
    "# install packages\n",
    "%pip install import-ipynb\n",
    "\n",
    "%pip install pandas numpy\n",
    "%pip install langchain langchain-openai\n",
    "%pip install python-dotenv"
   ]
  },
  {
   "cell_type": "code",
   "execution_count": 2,
   "id": "3fd337c0",
   "metadata": {},
   "outputs": [],
   "source": [
    "# Load dotenv\n",
    "import os, pathlib\n",
    "from dotenv import load_dotenv, set_key\n",
    "load_dotenv()\n",
    "\n",
    "# Store project root in .env\n",
    "PROJECT_ROOT = pathlib.Path().resolve()\n",
    "ENV_PATH = PROJECT_ROOT / \".env\"\n",
    "if not ENV_PATH.exists():\n",
    "    raise FileNotFoundError(f\".env file not found.\")\n",
    "    \n",
    "if \"PROJECT_ROOT\" not in os.environ:\n",
    "    set_key(str(ENV_PATH), \"PROJECT_ROOT\", str(PROJECT_ROOT))\n",
    "else:\n",
    "    PROJECT_ROOT = pathlib.Path(os.environ[\"PROJECT_ROOT\"])\n",
    "\n",
    "# Get API Key\n",
    "OPENAI_API_KEY = os.environ.get(\"OPENAI_API_KEY\")\n",
    "if not OPENAI_API_KEY:\n",
    "    print(\"OpenAI API Key not found\")"
   ]
  },
  {
   "cell_type": "code",
   "execution_count": 3,
   "id": "5df2ce65",
   "metadata": {},
   "outputs": [],
   "source": [
    "# Import libraries\n",
    "import pandas as pd\n",
    "import numpy as np\n",
    "\n",
    "# Import route_query function\n",
    "import import_ipynb\n",
    "from route_query import route_query"
   ]
  },
  {
   "cell_type": "markdown",
   "id": "74e86596",
   "metadata": {},
   "source": [
    "# **USER ACTIONS**\n",
    "<hr>\n",
    "\n",
    "- user_load_dataset(): prompts user to pick csv to load into dataframe\n",
    "- user_actions(): prompts user to perform actions on dataframe"
   ]
  },
  {
   "cell_type": "code",
   "execution_count": 4,
   "id": "76c70202",
   "metadata": {},
   "outputs": [],
   "source": [
    "def user_load_dataset():\n",
    "    # Check dataset folder\n",
    "    datasets_path = \"datasets\"\n",
    "    if not os.path.exists(datasets_path):\n",
    "        print(f\"'{datasets_path}' folder not found.\")\n",
    "        return\n",
    "    \n",
    "    print(\"LOAD YOUR DATASET TO GET STARTED!\")\n",
    "    # List existing CSVs in dataset folder\n",
    "    file_paths = [f for f in os.listdir(datasets_path) if f.lower().endswith('.csv')]\n",
    "    if file_paths:\n",
    "        print(f\"CSV files in '{datasets_path}':\")\n",
    "        for i, fname in enumerate(file_paths):\n",
    "            print(f\"{i+1}. {fname}\")\n",
    "    else:\n",
    "        print(\"No CSV files found in 'datasets' folder.\")\n",
    "        return\n",
    "\n",
    "    print(\"\\nNot seeing your data? Make sure your CSV file is in 'datasets' folder\")\n",
    "    print(\"Type x to exit.\")\n",
    "    user_file = input(\"To load your dataset, input either the number or name of your desired CSV: \")\n",
    "\n",
    "    if user_file.lower() == \"x\":\n",
    "        print(\"Exiting.\")\n",
    "        return\n",
    "    \n",
    "    # Try to load by number\n",
    "    if user_file.isnumeric():\n",
    "        idx = int(user_file) - 1\n",
    "        if 0 <= idx < len(file_paths):\n",
    "            selected_file = file_paths[idx]\n",
    "        else:\n",
    "            print(\"Invalid number.\")\n",
    "            return\n",
    "    # Not numeric try to load by name\n",
    "    else:\n",
    "        if user_file in file_paths:\n",
    "            selected_file = user_file\n",
    "        else:\n",
    "            print(\"File not found.\")\n",
    "            return\n",
    "\n",
    "    df = pd.read_csv(os.path.join(datasets_path, selected_file))\n",
    "    print(f\"\\nLoaded '{selected_file}' with shape {df.shape}\")\n",
    "    print(df.head(5))\n",
    "    return df"
   ]
  },
  {
   "cell_type": "code",
   "execution_count": 5,
   "id": "266a50ea",
   "metadata": {},
   "outputs": [],
   "source": [
    "def user_actions(df):\n",
    "    out_path = \"datasets_out\"\n",
    "    while True:\n",
    "        print(\"\\nCommands:\")\n",
    "        print(\"1. View dataframe (head)\")\n",
    "        print(\"2. Output dataframe to CSV\")\n",
    "        print(\"x. Exit\")\n",
    "        user_query = input(\"\\nEnter a command number or a data cleaning/query command: \")\n",
    "        if user_query.lower() == \"x\":\n",
    "            print(\"Exiting.\")\n",
    "            return df\n",
    "        elif user_query == \"1\":\n",
    "            print(df.head())\n",
    "            _ = input(\"enter anything to continue\")\n",
    "        elif user_query == \"2\":\n",
    "            if not os.path.exists(out_path):\n",
    "                os.makedirs(out_path)\n",
    "            out_file = os.path.join(out_path, \"output.csv\")\n",
    "            df.to_csv(out_file, index=False)\n",
    "            print(f\"Dataframe saved to {out_file}\")\n",
    "            _ = input(\"enter anything to continue\")\n",
    "        else:\n",
    "            # Calls route_query\n",
    "            df = route_query(user_query, df)"
   ]
  },
  {
   "cell_type": "markdown",
   "id": "5bb94eb4",
   "metadata": {},
   "source": [
    "**MAIN FUNCTION**\n",
    "-"
   ]
  },
  {
   "cell_type": "code",
   "execution_count": 6,
   "id": "1484df2c",
   "metadata": {},
   "outputs": [],
   "source": [
    "def main():\n",
    "    df = user_load_dataset()\n",
    "    while df is None:\n",
    "        df = user_load_dataset()\n",
    "    df = user_actions(df)\n",
    "    print(\"========== FINAL DF ==========\")\n",
    "    print(df)"
   ]
  },
  {
   "cell_type": "markdown",
   "id": "43127313",
   "metadata": {},
   "source": [
    "**Testing**"
   ]
  },
  {
   "cell_type": "code",
   "execution_count": null,
   "id": "c2bf9269",
   "metadata": {},
   "outputs": [
    {
     "name": "stdout",
     "output_type": "stream",
     "text": [
      "LOAD YOUR DATASET TO GET STARTED!\n",
      "CSV files in 'datasets':\n",
      "1. Life Expectancy Data.csv\n",
      "2. smoke.csv\n",
      "3. household_vista_2023_2024.csv\n",
      "4. lv_compliance_cranes.csv\n",
      "\n",
      "Not seeing your data? Make sure your CSV file is in 'datasets' folder\n",
      "Type x to exit.\n"
     ]
    }
   ],
   "source": [
    "main()"
   ]
  }
 ],
 "metadata": {
  "kernelspec": {
   "display_name": "Python 3 (ipykernel)",
   "language": "python",
   "name": "python3"
  },
  "language_info": {
   "codemirror_mode": {
    "name": "ipython",
    "version": 3
   },
   "file_extension": ".py",
   "mimetype": "text/x-python",
   "name": "python",
   "nbconvert_exporter": "python",
   "pygments_lexer": "ipython3",
   "version": "3.11.13"
  }
 },
 "nbformat": 4,
 "nbformat_minor": 5
}
